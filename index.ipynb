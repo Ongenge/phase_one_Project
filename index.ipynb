{
 "cells": [
  {
   "cell_type": "markdown",
   "metadata": {},
   "source": [
    "## AVIATION ANALYSIS PROJECT\n",
    "\n",
    "Assessing Aircraft Accident Trends and Safety Risks\n",
    "\n",
    "## Project Overview\n",
    "\n",
    "This project analyzes aircraft accident data (1962-2023) to identify trends, risk factors, and insights into aviation safety. Using Python (pandas, NumPy, Matplotlib) and Tableau, we aim to:\n",
    "\n",
    "🛠️Clean and preprocess aviation accident data.\n",
    "\n",
    "🔍Explore trends in accident frequency, causes, and severity.\n",
    "\n",
    "📊Visualize key insights through charts and interactive dashboards.\n",
    "\n",
    "📉Identify risk factors that contribute to aviation incidents.\n",
    "\n",
    "### Dataset Information\n",
    "\n",
    "'AviationData.csv' – Contains accident reports, aircraft details, causes, and locations.\n",
    "\n",
    "'USState_Codes.csv'– Mapping of state codes to full state names for analysis.\n",
    "\n",
    "\n",
    "❓ Key Questions\n",
    "\n",
    "What are the most common causes of aviation accidents?\n",
    "\n",
    "How have accident trends changed over time?\n",
    "\n",
    "Which aircraft types and flight phases have the highest risk?\n",
    "\n",
    "What role does weather or location play in accidents?\n",
    "\n",
    "Let’s dive into the data!\n",
    "\n",
    "# Data Loading\n",
    "\n",
    "Data Loading: Importing the Dataset for Analysis\n",
    "The first step in any data analysis process is loading the dataset into the environment. This allows us to inspect, clean, and prepare the data for further exploration.\n",
    "\n",
    "1. Importing Necessary Libraries\n",
    "Before loading the datasets provided, essential Python libraries are imported for data manipulation and analysis.\n",
    "\n",
    "2. Reading the Dataset\n",
    "The datasets that are provided will then be loaded using Pandas.\n",
    "\n",
    "3. Inspecting the Data\n",
    "After loading, initial checks shall then be performed to understand the dataset structure\n",
    "\n",
    "4. Verifying Data Integrity\n",
    "To ensure data integrity, the following are checked for:\n",
    "\n",
    "Duplicate values – using .duplicated().sum()\n",
    "\n",
    "Inconsistent column names – using aviation_df.columns\n",
    "\n",
    "Missing values – using .isnull().sum()"
   ]
  },
  {
   "cell_type": "code",
   "execution_count": 11,
   "metadata": {},
   "outputs": [],
   "source": [
    "# Import necessary libraries\n",
    "\n",
    "import pandas as pd\n",
    "import matplotlib.pyplot as plt\n",
    "import numpy as np\n",
    "import seaborn as sns"
   ]
  },
  {
   "cell_type": "code",
   "execution_count": 12,
   "metadata": {},
   "outputs": [],
   "source": [
    "# Loading the datasets as DataFrames\n",
    "\n",
    "Data = pd.read_csv(\"AviationData.csv\", encoding = \"latin1\", low_memory = False)\n",
    "#Data.head()"
   ]
  },
  {
   "cell_type": "code",
   "execution_count": 13,
   "metadata": {},
   "outputs": [
    {
     "data": {
      "text/html": [
       "<div>\n",
       "<style scoped>\n",
       "    .dataframe tbody tr th:only-of-type {\n",
       "        vertical-align: middle;\n",
       "    }\n",
       "\n",
       "    .dataframe tbody tr th {\n",
       "        vertical-align: top;\n",
       "    }\n",
       "\n",
       "    .dataframe thead th {\n",
       "        text-align: right;\n",
       "    }\n",
       "</style>\n",
       "<table border=\"1\" class=\"dataframe\">\n",
       "  <thead>\n",
       "    <tr style=\"text-align: right;\">\n",
       "      <th></th>\n",
       "      <th>Event.Id</th>\n",
       "      <th>Investigation.Type</th>\n",
       "      <th>Accident.Number</th>\n",
       "      <th>Event.Date</th>\n",
       "      <th>Location</th>\n",
       "      <th>Country</th>\n",
       "      <th>Latitude</th>\n",
       "      <th>Longitude</th>\n",
       "      <th>Airport.Code</th>\n",
       "      <th>Airport.Name</th>\n",
       "      <th>...</th>\n",
       "      <th>Purpose.of.flight</th>\n",
       "      <th>Air.carrier</th>\n",
       "      <th>Total.Fatal.Injuries</th>\n",
       "      <th>Total.Serious.Injuries</th>\n",
       "      <th>Total.Minor.Injuries</th>\n",
       "      <th>Total.Uninjured</th>\n",
       "      <th>Weather.Condition</th>\n",
       "      <th>Broad.phase.of.flight</th>\n",
       "      <th>Report.Status</th>\n",
       "      <th>Publication.Date</th>\n",
       "    </tr>\n",
       "  </thead>\n",
       "  <tbody>\n",
       "    <tr>\n",
       "      <th>0</th>\n",
       "      <td>20001218X45444</td>\n",
       "      <td>Accident</td>\n",
       "      <td>SEA87LA080</td>\n",
       "      <td>1948-10-24</td>\n",
       "      <td>MOOSE CREEK, ID</td>\n",
       "      <td>United States</td>\n",
       "      <td>NaN</td>\n",
       "      <td>NaN</td>\n",
       "      <td>NaN</td>\n",
       "      <td>NaN</td>\n",
       "      <td>...</td>\n",
       "      <td>Personal</td>\n",
       "      <td>NaN</td>\n",
       "      <td>2.0</td>\n",
       "      <td>0.0</td>\n",
       "      <td>0.0</td>\n",
       "      <td>0.0</td>\n",
       "      <td>UNK</td>\n",
       "      <td>Cruise</td>\n",
       "      <td>Probable Cause</td>\n",
       "      <td>NaN</td>\n",
       "    </tr>\n",
       "    <tr>\n",
       "      <th>1</th>\n",
       "      <td>20001218X45447</td>\n",
       "      <td>Accident</td>\n",
       "      <td>LAX94LA336</td>\n",
       "      <td>1962-07-19</td>\n",
       "      <td>BRIDGEPORT, CA</td>\n",
       "      <td>United States</td>\n",
       "      <td>NaN</td>\n",
       "      <td>NaN</td>\n",
       "      <td>NaN</td>\n",
       "      <td>NaN</td>\n",
       "      <td>...</td>\n",
       "      <td>Personal</td>\n",
       "      <td>NaN</td>\n",
       "      <td>4.0</td>\n",
       "      <td>0.0</td>\n",
       "      <td>0.0</td>\n",
       "      <td>0.0</td>\n",
       "      <td>UNK</td>\n",
       "      <td>Unknown</td>\n",
       "      <td>Probable Cause</td>\n",
       "      <td>19-09-1996</td>\n",
       "    </tr>\n",
       "    <tr>\n",
       "      <th>2</th>\n",
       "      <td>20061025X01555</td>\n",
       "      <td>Accident</td>\n",
       "      <td>NYC07LA005</td>\n",
       "      <td>1974-08-30</td>\n",
       "      <td>Saltville, VA</td>\n",
       "      <td>United States</td>\n",
       "      <td>36.922223</td>\n",
       "      <td>-81.878056</td>\n",
       "      <td>NaN</td>\n",
       "      <td>NaN</td>\n",
       "      <td>...</td>\n",
       "      <td>Personal</td>\n",
       "      <td>NaN</td>\n",
       "      <td>3.0</td>\n",
       "      <td>NaN</td>\n",
       "      <td>NaN</td>\n",
       "      <td>NaN</td>\n",
       "      <td>IMC</td>\n",
       "      <td>Cruise</td>\n",
       "      <td>Probable Cause</td>\n",
       "      <td>26-02-2007</td>\n",
       "    </tr>\n",
       "    <tr>\n",
       "      <th>3</th>\n",
       "      <td>20001218X45448</td>\n",
       "      <td>Accident</td>\n",
       "      <td>LAX96LA321</td>\n",
       "      <td>1977-06-19</td>\n",
       "      <td>EUREKA, CA</td>\n",
       "      <td>United States</td>\n",
       "      <td>NaN</td>\n",
       "      <td>NaN</td>\n",
       "      <td>NaN</td>\n",
       "      <td>NaN</td>\n",
       "      <td>...</td>\n",
       "      <td>Personal</td>\n",
       "      <td>NaN</td>\n",
       "      <td>2.0</td>\n",
       "      <td>0.0</td>\n",
       "      <td>0.0</td>\n",
       "      <td>0.0</td>\n",
       "      <td>IMC</td>\n",
       "      <td>Cruise</td>\n",
       "      <td>Probable Cause</td>\n",
       "      <td>12-09-2000</td>\n",
       "    </tr>\n",
       "    <tr>\n",
       "      <th>4</th>\n",
       "      <td>20041105X01764</td>\n",
       "      <td>Accident</td>\n",
       "      <td>CHI79FA064</td>\n",
       "      <td>1979-08-02</td>\n",
       "      <td>Canton, OH</td>\n",
       "      <td>United States</td>\n",
       "      <td>NaN</td>\n",
       "      <td>NaN</td>\n",
       "      <td>NaN</td>\n",
       "      <td>NaN</td>\n",
       "      <td>...</td>\n",
       "      <td>Personal</td>\n",
       "      <td>NaN</td>\n",
       "      <td>1.0</td>\n",
       "      <td>2.0</td>\n",
       "      <td>NaN</td>\n",
       "      <td>0.0</td>\n",
       "      <td>VMC</td>\n",
       "      <td>Approach</td>\n",
       "      <td>Probable Cause</td>\n",
       "      <td>16-04-1980</td>\n",
       "    </tr>\n",
       "  </tbody>\n",
       "</table>\n",
       "<p>5 rows × 31 columns</p>\n",
       "</div>"
      ],
      "text/plain": [
       "         Event.Id Investigation.Type Accident.Number  Event.Date  \\\n",
       "0  20001218X45444           Accident      SEA87LA080  1948-10-24   \n",
       "1  20001218X45447           Accident      LAX94LA336  1962-07-19   \n",
       "2  20061025X01555           Accident      NYC07LA005  1974-08-30   \n",
       "3  20001218X45448           Accident      LAX96LA321  1977-06-19   \n",
       "4  20041105X01764           Accident      CHI79FA064  1979-08-02   \n",
       "\n",
       "          Location        Country   Latitude   Longitude Airport.Code  \\\n",
       "0  MOOSE CREEK, ID  United States        NaN         NaN          NaN   \n",
       "1   BRIDGEPORT, CA  United States        NaN         NaN          NaN   \n",
       "2    Saltville, VA  United States  36.922223  -81.878056          NaN   \n",
       "3       EUREKA, CA  United States        NaN         NaN          NaN   \n",
       "4       Canton, OH  United States        NaN         NaN          NaN   \n",
       "\n",
       "  Airport.Name  ... Purpose.of.flight Air.carrier Total.Fatal.Injuries  \\\n",
       "0          NaN  ...          Personal         NaN                  2.0   \n",
       "1          NaN  ...          Personal         NaN                  4.0   \n",
       "2          NaN  ...          Personal         NaN                  3.0   \n",
       "3          NaN  ...          Personal         NaN                  2.0   \n",
       "4          NaN  ...          Personal         NaN                  1.0   \n",
       "\n",
       "  Total.Serious.Injuries Total.Minor.Injuries Total.Uninjured  \\\n",
       "0                    0.0                  0.0             0.0   \n",
       "1                    0.0                  0.0             0.0   \n",
       "2                    NaN                  NaN             NaN   \n",
       "3                    0.0                  0.0             0.0   \n",
       "4                    2.0                  NaN             0.0   \n",
       "\n",
       "  Weather.Condition  Broad.phase.of.flight   Report.Status Publication.Date  \n",
       "0               UNK                 Cruise  Probable Cause              NaN  \n",
       "1               UNK                Unknown  Probable Cause       19-09-1996  \n",
       "2               IMC                 Cruise  Probable Cause       26-02-2007  \n",
       "3               IMC                 Cruise  Probable Cause       12-09-2000  \n",
       "4               VMC               Approach  Probable Cause       16-04-1980  \n",
       "\n",
       "[5 rows x 31 columns]"
      ]
     },
     "execution_count": 13,
     "metadata": {},
     "output_type": "execute_result"
    }
   ],
   "source": [
    "Data.head()"
   ]
  },
  {
   "cell_type": "code",
   "execution_count": 14,
   "metadata": {},
   "outputs": [
    {
     "name": "stdout",
     "output_type": "stream",
     "text": [
      "<class 'pandas.core.frame.DataFrame'>\n",
      "RangeIndex: 88889 entries, 0 to 88888\n",
      "Data columns (total 31 columns):\n",
      " #   Column                  Non-Null Count  Dtype  \n",
      "---  ------                  --------------  -----  \n",
      " 0   Event.Id                88889 non-null  object \n",
      " 1   Investigation.Type      88889 non-null  object \n",
      " 2   Accident.Number         88889 non-null  object \n",
      " 3   Event.Date              88889 non-null  object \n",
      " 4   Location                88837 non-null  object \n",
      " 5   Country                 88663 non-null  object \n",
      " 6   Latitude                34382 non-null  object \n",
      " 7   Longitude               34373 non-null  object \n",
      " 8   Airport.Code            50249 non-null  object \n",
      " 9   Airport.Name            52790 non-null  object \n",
      " 10  Injury.Severity         87889 non-null  object \n",
      " 11  Aircraft.damage         85695 non-null  object \n",
      " 12  Aircraft.Category       32287 non-null  object \n",
      " 13  Registration.Number     87572 non-null  object \n",
      " 14  Make                    88826 non-null  object \n",
      " 15  Model                   88797 non-null  object \n",
      " 16  Amateur.Built           88787 non-null  object \n",
      " 17  Number.of.Engines       82805 non-null  float64\n",
      " 18  Engine.Type             81812 non-null  object \n",
      " 19  FAR.Description         32023 non-null  object \n",
      " 20  Schedule                12582 non-null  object \n",
      " 21  Purpose.of.flight       82697 non-null  object \n",
      " 22  Air.carrier             16648 non-null  object \n",
      " 23  Total.Fatal.Injuries    77488 non-null  float64\n",
      " 24  Total.Serious.Injuries  76379 non-null  float64\n",
      " 25  Total.Minor.Injuries    76956 non-null  float64\n",
      " 26  Total.Uninjured         82977 non-null  float64\n",
      " 27  Weather.Condition       84397 non-null  object \n",
      " 28  Broad.phase.of.flight   61724 non-null  object \n",
      " 29  Report.Status           82508 non-null  object \n",
      " 30  Publication.Date        75118 non-null  object \n",
      "dtypes: float64(5), object(26)\n",
      "memory usage: 21.0+ MB\n"
     ]
    }
   ],
   "source": [
    "Data.info()"
   ]
  },
  {
   "cell_type": "code",
   "execution_count": 15,
   "metadata": {},
   "outputs": [
    {
     "data": {
      "text/html": [
       "<div>\n",
       "<style scoped>\n",
       "    .dataframe tbody tr th:only-of-type {\n",
       "        vertical-align: middle;\n",
       "    }\n",
       "\n",
       "    .dataframe tbody tr th {\n",
       "        vertical-align: top;\n",
       "    }\n",
       "\n",
       "    .dataframe thead th {\n",
       "        text-align: right;\n",
       "    }\n",
       "</style>\n",
       "<table border=\"1\" class=\"dataframe\">\n",
       "  <thead>\n",
       "    <tr style=\"text-align: right;\">\n",
       "      <th></th>\n",
       "      <th>Number.of.Engines</th>\n",
       "      <th>Total.Fatal.Injuries</th>\n",
       "      <th>Total.Serious.Injuries</th>\n",
       "      <th>Total.Minor.Injuries</th>\n",
       "      <th>Total.Uninjured</th>\n",
       "    </tr>\n",
       "  </thead>\n",
       "  <tbody>\n",
       "    <tr>\n",
       "      <th>count</th>\n",
       "      <td>82805.000000</td>\n",
       "      <td>77488.000000</td>\n",
       "      <td>76379.000000</td>\n",
       "      <td>76956.000000</td>\n",
       "      <td>82977.000000</td>\n",
       "    </tr>\n",
       "    <tr>\n",
       "      <th>mean</th>\n",
       "      <td>1.146585</td>\n",
       "      <td>0.647855</td>\n",
       "      <td>0.279881</td>\n",
       "      <td>0.357061</td>\n",
       "      <td>5.325440</td>\n",
       "    </tr>\n",
       "    <tr>\n",
       "      <th>std</th>\n",
       "      <td>0.446510</td>\n",
       "      <td>5.485960</td>\n",
       "      <td>1.544084</td>\n",
       "      <td>2.235625</td>\n",
       "      <td>27.913634</td>\n",
       "    </tr>\n",
       "    <tr>\n",
       "      <th>min</th>\n",
       "      <td>0.000000</td>\n",
       "      <td>0.000000</td>\n",
       "      <td>0.000000</td>\n",
       "      <td>0.000000</td>\n",
       "      <td>0.000000</td>\n",
       "    </tr>\n",
       "    <tr>\n",
       "      <th>25%</th>\n",
       "      <td>1.000000</td>\n",
       "      <td>0.000000</td>\n",
       "      <td>0.000000</td>\n",
       "      <td>0.000000</td>\n",
       "      <td>0.000000</td>\n",
       "    </tr>\n",
       "    <tr>\n",
       "      <th>50%</th>\n",
       "      <td>1.000000</td>\n",
       "      <td>0.000000</td>\n",
       "      <td>0.000000</td>\n",
       "      <td>0.000000</td>\n",
       "      <td>1.000000</td>\n",
       "    </tr>\n",
       "    <tr>\n",
       "      <th>75%</th>\n",
       "      <td>1.000000</td>\n",
       "      <td>0.000000</td>\n",
       "      <td>0.000000</td>\n",
       "      <td>0.000000</td>\n",
       "      <td>2.000000</td>\n",
       "    </tr>\n",
       "    <tr>\n",
       "      <th>max</th>\n",
       "      <td>8.000000</td>\n",
       "      <td>349.000000</td>\n",
       "      <td>161.000000</td>\n",
       "      <td>380.000000</td>\n",
       "      <td>699.000000</td>\n",
       "    </tr>\n",
       "  </tbody>\n",
       "</table>\n",
       "</div>"
      ],
      "text/plain": [
       "       Number.of.Engines  Total.Fatal.Injuries  Total.Serious.Injuries  \\\n",
       "count       82805.000000          77488.000000            76379.000000   \n",
       "mean            1.146585              0.647855                0.279881   \n",
       "std             0.446510              5.485960                1.544084   \n",
       "min             0.000000              0.000000                0.000000   \n",
       "25%             1.000000              0.000000                0.000000   \n",
       "50%             1.000000              0.000000                0.000000   \n",
       "75%             1.000000              0.000000                0.000000   \n",
       "max             8.000000            349.000000              161.000000   \n",
       "\n",
       "       Total.Minor.Injuries  Total.Uninjured  \n",
       "count          76956.000000     82977.000000  \n",
       "mean               0.357061         5.325440  \n",
       "std                2.235625        27.913634  \n",
       "min                0.000000         0.000000  \n",
       "25%                0.000000         0.000000  \n",
       "50%                0.000000         1.000000  \n",
       "75%                0.000000         2.000000  \n",
       "max              380.000000       699.000000  "
      ]
     },
     "execution_count": 15,
     "metadata": {},
     "output_type": "execute_result"
    }
   ],
   "source": [
    "Data.describe()"
   ]
  },
  {
   "cell_type": "code",
   "execution_count": 16,
   "metadata": {},
   "outputs": [
    {
     "data": {
      "text/plain": [
       "Index(['Event.Id', 'Investigation.Type', 'Accident.Number', 'Event.Date',\n",
       "       'Location', 'Country', 'Latitude', 'Longitude', 'Airport.Code',\n",
       "       'Airport.Name', 'Injury.Severity', 'Aircraft.damage',\n",
       "       'Aircraft.Category', 'Registration.Number', 'Make', 'Model',\n",
       "       'Amateur.Built', 'Number.of.Engines', 'Engine.Type', 'FAR.Description',\n",
       "       'Schedule', 'Purpose.of.flight', 'Air.carrier', 'Total.Fatal.Injuries',\n",
       "       'Total.Serious.Injuries', 'Total.Minor.Injuries', 'Total.Uninjured',\n",
       "       'Weather.Condition', 'Broad.phase.of.flight', 'Report.Status',\n",
       "       'Publication.Date'],\n",
       "      dtype='object')"
      ]
     },
     "execution_count": 16,
     "metadata": {},
     "output_type": "execute_result"
    }
   ],
   "source": [
    "Data.columns"
   ]
  },
  {
   "cell_type": "code",
   "execution_count": 17,
   "metadata": {},
   "outputs": [
    {
     "data": {
      "text/plain": [
       "(88889, 31)"
      ]
     },
     "execution_count": 17,
     "metadata": {},
     "output_type": "execute_result"
    }
   ],
   "source": [
    "Data.shape"
   ]
  },
  {
   "cell_type": "code",
   "execution_count": 18,
   "metadata": {},
   "outputs": [
    {
     "data": {
      "text/plain": [
       "0"
      ]
     },
     "execution_count": 18,
     "metadata": {},
     "output_type": "execute_result"
    }
   ],
   "source": [
    "Data.duplicated().sum()"
   ]
  },
  {
   "cell_type": "code",
   "execution_count": 19,
   "metadata": {},
   "outputs": [
    {
     "data": {
      "text/plain": [
       "Event.Id                      0\n",
       "Investigation.Type            0\n",
       "Accident.Number               0\n",
       "Event.Date                    0\n",
       "Location                     52\n",
       "Country                     226\n",
       "Latitude                  54507\n",
       "Longitude                 54516\n",
       "Airport.Code              38640\n",
       "Airport.Name              36099\n",
       "Injury.Severity            1000\n",
       "Aircraft.damage            3194\n",
       "Aircraft.Category         56602\n",
       "Registration.Number        1317\n",
       "Make                         63\n",
       "Model                        92\n",
       "Amateur.Built               102\n",
       "Number.of.Engines          6084\n",
       "Engine.Type                7077\n",
       "FAR.Description           56866\n",
       "Schedule                  76307\n",
       "Purpose.of.flight          6192\n",
       "Air.carrier               72241\n",
       "Total.Fatal.Injuries      11401\n",
       "Total.Serious.Injuries    12510\n",
       "Total.Minor.Injuries      11933\n",
       "Total.Uninjured            5912\n",
       "Weather.Condition          4492\n",
       "Broad.phase.of.flight     27165\n",
       "Report.Status              6381\n",
       "Publication.Date          13771\n",
       "dtype: int64"
      ]
     },
     "execution_count": 19,
     "metadata": {},
     "output_type": "execute_result"
    }
   ],
   "source": [
    "Data.isnull().sum()"
   ]
  },
  {
   "cell_type": "markdown",
   "metadata": {},
   "source": [
    "Data Cleaning"
   ]
  },
  {
   "cell_type": "code",
   "execution_count": 20,
   "metadata": {},
   "outputs": [
    {
     "data": {
      "text/html": [
       "<div>\n",
       "<style scoped>\n",
       "    .dataframe tbody tr th:only-of-type {\n",
       "        vertical-align: middle;\n",
       "    }\n",
       "\n",
       "    .dataframe tbody tr th {\n",
       "        vertical-align: top;\n",
       "    }\n",
       "\n",
       "    .dataframe thead th {\n",
       "        text-align: right;\n",
       "    }\n",
       "</style>\n",
       "<table border=\"1\" class=\"dataframe\">\n",
       "  <thead>\n",
       "    <tr style=\"text-align: right;\">\n",
       "      <th></th>\n",
       "      <th>Missing Values</th>\n",
       "      <th>Percentage</th>\n",
       "    </tr>\n",
       "  </thead>\n",
       "  <tbody>\n",
       "    <tr>\n",
       "      <th>Location</th>\n",
       "      <td>52</td>\n",
       "      <td>0.058500</td>\n",
       "    </tr>\n",
       "    <tr>\n",
       "      <th>Country</th>\n",
       "      <td>226</td>\n",
       "      <td>0.254250</td>\n",
       "    </tr>\n",
       "    <tr>\n",
       "      <th>Latitude</th>\n",
       "      <td>54507</td>\n",
       "      <td>61.320298</td>\n",
       "    </tr>\n",
       "    <tr>\n",
       "      <th>Longitude</th>\n",
       "      <td>54516</td>\n",
       "      <td>61.330423</td>\n",
       "    </tr>\n",
       "    <tr>\n",
       "      <th>Airport.Code</th>\n",
       "      <td>38640</td>\n",
       "      <td>43.469946</td>\n",
       "    </tr>\n",
       "    <tr>\n",
       "      <th>Airport.Name</th>\n",
       "      <td>36099</td>\n",
       "      <td>40.611324</td>\n",
       "    </tr>\n",
       "    <tr>\n",
       "      <th>Injury.Severity</th>\n",
       "      <td>1000</td>\n",
       "      <td>1.124999</td>\n",
       "    </tr>\n",
       "    <tr>\n",
       "      <th>Aircraft.damage</th>\n",
       "      <td>3194</td>\n",
       "      <td>3.593246</td>\n",
       "    </tr>\n",
       "    <tr>\n",
       "      <th>Aircraft.Category</th>\n",
       "      <td>56602</td>\n",
       "      <td>63.677170</td>\n",
       "    </tr>\n",
       "    <tr>\n",
       "      <th>Registration.Number</th>\n",
       "      <td>1317</td>\n",
       "      <td>1.481623</td>\n",
       "    </tr>\n",
       "    <tr>\n",
       "      <th>Make</th>\n",
       "      <td>63</td>\n",
       "      <td>0.070875</td>\n",
       "    </tr>\n",
       "    <tr>\n",
       "      <th>Model</th>\n",
       "      <td>92</td>\n",
       "      <td>0.103500</td>\n",
       "    </tr>\n",
       "    <tr>\n",
       "      <th>Amateur.Built</th>\n",
       "      <td>102</td>\n",
       "      <td>0.114750</td>\n",
       "    </tr>\n",
       "    <tr>\n",
       "      <th>Number.of.Engines</th>\n",
       "      <td>6084</td>\n",
       "      <td>6.844491</td>\n",
       "    </tr>\n",
       "    <tr>\n",
       "      <th>Engine.Type</th>\n",
       "      <td>7077</td>\n",
       "      <td>7.961615</td>\n",
       "    </tr>\n",
       "    <tr>\n",
       "      <th>FAR.Description</th>\n",
       "      <td>56866</td>\n",
       "      <td>63.974170</td>\n",
       "    </tr>\n",
       "    <tr>\n",
       "      <th>Schedule</th>\n",
       "      <td>76307</td>\n",
       "      <td>85.845268</td>\n",
       "    </tr>\n",
       "    <tr>\n",
       "      <th>Purpose.of.flight</th>\n",
       "      <td>6192</td>\n",
       "      <td>6.965991</td>\n",
       "    </tr>\n",
       "    <tr>\n",
       "      <th>Air.carrier</th>\n",
       "      <td>72241</td>\n",
       "      <td>81.271023</td>\n",
       "    </tr>\n",
       "    <tr>\n",
       "      <th>Total.Fatal.Injuries</th>\n",
       "      <td>11401</td>\n",
       "      <td>12.826109</td>\n",
       "    </tr>\n",
       "    <tr>\n",
       "      <th>Total.Serious.Injuries</th>\n",
       "      <td>12510</td>\n",
       "      <td>14.073732</td>\n",
       "    </tr>\n",
       "    <tr>\n",
       "      <th>Total.Minor.Injuries</th>\n",
       "      <td>11933</td>\n",
       "      <td>13.424608</td>\n",
       "    </tr>\n",
       "    <tr>\n",
       "      <th>Total.Uninjured</th>\n",
       "      <td>5912</td>\n",
       "      <td>6.650992</td>\n",
       "    </tr>\n",
       "    <tr>\n",
       "      <th>Weather.Condition</th>\n",
       "      <td>4492</td>\n",
       "      <td>5.053494</td>\n",
       "    </tr>\n",
       "    <tr>\n",
       "      <th>Broad.phase.of.flight</th>\n",
       "      <td>27165</td>\n",
       "      <td>30.560587</td>\n",
       "    </tr>\n",
       "    <tr>\n",
       "      <th>Report.Status</th>\n",
       "      <td>6381</td>\n",
       "      <td>7.178616</td>\n",
       "    </tr>\n",
       "    <tr>\n",
       "      <th>Publication.Date</th>\n",
       "      <td>13771</td>\n",
       "      <td>15.492356</td>\n",
       "    </tr>\n",
       "  </tbody>\n",
       "</table>\n",
       "</div>"
      ],
      "text/plain": [
       "                        Missing Values  Percentage\n",
       "Location                            52    0.058500\n",
       "Country                            226    0.254250\n",
       "Latitude                         54507   61.320298\n",
       "Longitude                        54516   61.330423\n",
       "Airport.Code                     38640   43.469946\n",
       "Airport.Name                     36099   40.611324\n",
       "Injury.Severity                   1000    1.124999\n",
       "Aircraft.damage                   3194    3.593246\n",
       "Aircraft.Category                56602   63.677170\n",
       "Registration.Number               1317    1.481623\n",
       "Make                                63    0.070875\n",
       "Model                               92    0.103500\n",
       "Amateur.Built                      102    0.114750\n",
       "Number.of.Engines                 6084    6.844491\n",
       "Engine.Type                       7077    7.961615\n",
       "FAR.Description                  56866   63.974170\n",
       "Schedule                         76307   85.845268\n",
       "Purpose.of.flight                 6192    6.965991\n",
       "Air.carrier                      72241   81.271023\n",
       "Total.Fatal.Injuries             11401   12.826109\n",
       "Total.Serious.Injuries           12510   14.073732\n",
       "Total.Minor.Injuries             11933   13.424608\n",
       "Total.Uninjured                   5912    6.650992\n",
       "Weather.Condition                 4492    5.053494\n",
       "Broad.phase.of.flight            27165   30.560587\n",
       "Report.Status                     6381    7.178616\n",
       "Publication.Date                 13771   15.492356"
      ]
     },
     "execution_count": 20,
     "metadata": {},
     "output_type": "execute_result"
    }
   ],
   "source": [
    "# Checking for missing values in the dataset\n",
    "missing_values_num = Data.isnull().sum()\n",
    "\n",
    "# Displaying only columns with missing values\n",
    "missing_values_num = missing_values_num[missing_values_num > 0]\n",
    "\n",
    "# Checking percentage of missing values\n",
    "missing_percentage = (missing_values_num / len(Data)) * 100\n",
    "\n",
    "# Display missing values with percentage\n",
    "missing_data = pd.DataFrame({'Missing Values': missing_values_num, 'Percentage': missing_percentage})\n",
    "missing_data"
   ]
  },
  {
   "cell_type": "markdown",
   "metadata": {},
   "source": [
    "## Dropping Columns or Rows\n",
    "\n",
    "If a column has too many missing values (e.g., above 50-60%), we may drop it.\n",
    "\n",
    "If only a few rows are missing values in critical columns, we can drop them.\n"
   ]
  },
  {
   "cell_type": "code",
   "execution_count": 21,
   "metadata": {},
   "outputs": [],
   "source": [
    "Data = Data.dropna(thresh=len(Data) * 0.4, axis=1)\n",
    "Data = Data.dropna(subset=['Make', 'Model', 'Amateur.Built'])"
   ]
  },
  {
   "cell_type": "markdown",
   "metadata": {},
   "source": [
    "## The code below helps fill mising value\n",
    "\n",
    "##### For numerical columns, we can fill missing values with mean, median, or mode.\n",
    "##### For categorical columns, we can fill with mode (most common value) or 'Unknown'."
   ]
  },
  {
   "cell_type": "code",
   "execution_count": 22,
   "metadata": {},
   "outputs": [],
   "source": [
    "Data['Total.Fatal.Injuries'] = Data['Total.Fatal.Injuries'].fillna(np.ceil(Data['Total.Fatal.Injuries'].mean()))\n",
    "Data['Total.Serious.Injuries'] = Data['Total.Serious.Injuries'].fillna(np.ceil(Data['Total.Serious.Injuries'].mean()))\n",
    "Data['Total.Minor.Injuries'] = Data['Total.Minor.Injuries'].fillna(np.ceil(Data['Total.Minor.Injuries'].mean()))\n",
    "Data['Total.Uninjured'] = Data['Total.Uninjured'].fillna(round(Data['Total.Uninjured'].mean()))\n",
    "Data['Number.of.Engines'] = Data['Number.of.Engines'].fillna(Data['Number.of.Engines'].median())"
   ]
  },
  {
   "cell_type": "markdown",
   "metadata": {},
   "source": []
  },
  {
   "cell_type": "code",
   "execution_count": 23,
   "metadata": {},
   "outputs": [
    {
     "data": {
      "text/html": [
       "<div>\n",
       "<style scoped>\n",
       "    .dataframe tbody tr th:only-of-type {\n",
       "        vertical-align: middle;\n",
       "    }\n",
       "\n",
       "    .dataframe tbody tr th {\n",
       "        vertical-align: top;\n",
       "    }\n",
       "\n",
       "    .dataframe thead th {\n",
       "        text-align: right;\n",
       "    }\n",
       "</style>\n",
       "<table border=\"1\" class=\"dataframe\">\n",
       "  <thead>\n",
       "    <tr style=\"text-align: right;\">\n",
       "      <th></th>\n",
       "      <th>Missing Values</th>\n",
       "      <th>Percentage</th>\n",
       "    </tr>\n",
       "  </thead>\n",
       "  <tbody>\n",
       "    <tr>\n",
       "      <th>Location</th>\n",
       "      <td>48</td>\n",
       "      <td>0.054128</td>\n",
       "    </tr>\n",
       "    <tr>\n",
       "      <th>Country</th>\n",
       "      <td>225</td>\n",
       "      <td>0.253727</td>\n",
       "    </tr>\n",
       "    <tr>\n",
       "      <th>Airport.Code</th>\n",
       "      <td>38474</td>\n",
       "      <td>43.386184</td>\n",
       "    </tr>\n",
       "    <tr>\n",
       "      <th>Airport.Name</th>\n",
       "      <td>35942</td>\n",
       "      <td>40.530910</td>\n",
       "    </tr>\n",
       "    <tr>\n",
       "      <th>Injury.Severity</th>\n",
       "      <td>979</td>\n",
       "      <td>1.103994</td>\n",
       "    </tr>\n",
       "    <tr>\n",
       "      <th>Aircraft.damage</th>\n",
       "      <td>3154</td>\n",
       "      <td>3.556688</td>\n",
       "    </tr>\n",
       "    <tr>\n",
       "      <th>Registration.Number</th>\n",
       "      <td>1208</td>\n",
       "      <td>1.362232</td>\n",
       "    </tr>\n",
       "    <tr>\n",
       "      <th>Engine.Type</th>\n",
       "      <td>6928</td>\n",
       "      <td>7.812535</td>\n",
       "    </tr>\n",
       "    <tr>\n",
       "      <th>Purpose.of.flight</th>\n",
       "      <td>6073</td>\n",
       "      <td>6.848373</td>\n",
       "    </tr>\n",
       "    <tr>\n",
       "      <th>Weather.Condition</th>\n",
       "      <td>4381</td>\n",
       "      <td>4.940346</td>\n",
       "    </tr>\n",
       "    <tr>\n",
       "      <th>Broad.phase.of.flight</th>\n",
       "      <td>27013</td>\n",
       "      <td>30.461896</td>\n",
       "    </tr>\n",
       "    <tr>\n",
       "      <th>Report.Status</th>\n",
       "      <td>6335</td>\n",
       "      <td>7.143824</td>\n",
       "    </tr>\n",
       "    <tr>\n",
       "      <th>Publication.Date</th>\n",
       "      <td>13754</td>\n",
       "      <td>15.510048</td>\n",
       "    </tr>\n",
       "  </tbody>\n",
       "</table>\n",
       "</div>"
      ],
      "text/plain": [
       "                       Missing Values  Percentage\n",
       "Location                           48    0.054128\n",
       "Country                           225    0.253727\n",
       "Airport.Code                    38474   43.386184\n",
       "Airport.Name                    35942   40.530910\n",
       "Injury.Severity                   979    1.103994\n",
       "Aircraft.damage                  3154    3.556688\n",
       "Registration.Number              1208    1.362232\n",
       "Engine.Type                      6928    7.812535\n",
       "Purpose.of.flight                6073    6.848373\n",
       "Weather.Condition                4381    4.940346\n",
       "Broad.phase.of.flight           27013   30.461896\n",
       "Report.Status                    6335    7.143824\n",
       "Publication.Date                13754   15.510048"
      ]
     },
     "execution_count": 23,
     "metadata": {},
     "output_type": "execute_result"
    }
   ],
   "source": [
    "# Selecting only categorical columns\n",
    "categorical_cols = Data.select_dtypes(include=['object'])\n",
    "\n",
    "# Checking for missing values\n",
    "missing_values_cat = categorical_cols.isnull().sum()\n",
    "\n",
    "# Displaying only columns with missing values\n",
    "missing_values_cat = missing_values_cat[missing_values_cat > 0]\n",
    "\n",
    "# Checking percentage of missing values\n",
    "missing_percentage_cat = (missing_values_cat / len(Data)) * 100\n",
    "\n",
    "# Display missing values with percentage\n",
    "missing_data_cat = pd.DataFrame({'Missing Values': missing_values_cat, 'Percentage': missing_percentage_cat})\n",
    "missing_data_cat"
   ]
  },
  {
   "cell_type": "markdown",
   "metadata": {},
   "source": [
    "# Approach\n",
    "\n",
    "## Categorize missing values into three levels:\n",
    "\n",
    "### Low Missing Percentage (≤ 5%)\n",
    "\n",
    "#### Filled using Mode (most frequent value in the column).\n",
    "Ensures minimal data distortion.\n",
    "Moderate Missing Percentage (5% - 20%)\n",
    "\n",
    "#### Replaced with \"Unknown\" or \"Not Available\".\n",
    "Helps preserve data integrity when missing values may hold meaning.\n",
    "High Missing Percentage (> 20%)\n",
    "\n",
    "Uses Forward Fill (ffill) first, filling missing values with the previous row's value.\n",
    "If values are values are still missing, applies Backward Fill (bfill) to fill using the next row’s value."
   ]
  },
  {
   "cell_type": "code",
   "execution_count": 24,
   "metadata": {},
   "outputs": [
    {
     "name": "stdout",
     "output_type": "stream",
     "text": [
      "Missing values after handling:\n",
      " Event.Id                  0\n",
      "Investigation.Type        0\n",
      "Accident.Number           0\n",
      "Event.Date                0\n",
      "Location                  0\n",
      "Country                   0\n",
      "Airport.Code              0\n",
      "Airport.Name              0\n",
      "Injury.Severity           0\n",
      "Aircraft.damage           0\n",
      "Registration.Number       0\n",
      "Make                      0\n",
      "Model                     0\n",
      "Amateur.Built             0\n",
      "Number.of.Engines         0\n",
      "Engine.Type               0\n",
      "Purpose.of.flight         0\n",
      "Total.Fatal.Injuries      0\n",
      "Total.Serious.Injuries    0\n",
      "Total.Minor.Injuries      0\n",
      "Total.Uninjured           0\n",
      "Weather.Condition         0\n",
      "Broad.phase.of.flight     0\n",
      "Report.Status             0\n",
      "Publication.Date          0\n",
      "dtype: int64\n"
     ]
    }
   ],
   "source": [
    "total_rows = len(Data)\n",
    "\n",
    "for col in missing_values_cat.index:\n",
    "    missing_percentage_cat = (missing_values_cat[col] / total_rows) * 100  # Calculate missing percentage\n",
    "    \n",
    "    if missing_percentage_cat <= 5:  # If missing values are 5% or less\n",
    "        Data[col] = Data[col].fillna(Data[col].mode()[0])\n",
    "    \n",
    "    elif 5 < missing_percentage_cat <= 20:  # If missing values are between 5% and 20%\n",
    "        Data[col] = Data[col].fillna(\"Unknown\")\n",
    "    \n",
    "    else:  # If missing values are more than 20%\n",
    "        Data[col] = Data[col].fillna(method='ffill')  # First, try forward fill\n",
    "        Data[col] = Data[col].fillna(method='bfill')  # Then, try backward fill if still missing\n",
    "\n",
    "# Confirm missing values are handled\n",
    "print(\"Missing values after handling:\\n\", Data.isnull().sum())"
   ]
  },
  {
   "cell_type": "markdown",
   "metadata": {},
   "source": [
    " ## Now that the data is filled with no none or null values we can proceed with coverting the data in the Event_Date column to the correct format."
   ]
  },
  {
   "cell_type": "code",
   "execution_count": 25,
   "metadata": {},
   "outputs": [],
   "source": [
    "# Convert Event_Date to datetime format\n",
    "Data['Event.Date'] = pd.to_datetime(Data['Event.Date'])"
   ]
  },
  {
   "cell_type": "markdown",
   "metadata": {},
   "source": [
    "## Extracting Time-Based Features\n",
    "\n",
    "Since accidents often have seasonal trends, let’s create features from the date column:"
   ]
  },
  {
   "cell_type": "code",
   "execution_count": 26,
   "metadata": {},
   "outputs": [],
   "source": [
    "# Extracting key time-related features\n",
    "Data['Year'] = Data['Event.Date'].dt.year\n",
    "Data['Month'] = Data['Event.Date'].dt.month\n",
    "Data['Day_Of_Week'] = Data['Event.Date'].dt.day_name()"
   ]
  },
  {
   "cell_type": "markdown",
   "metadata": {},
   "source": [
    "### The above will:\n",
    "\n",
    "#### Help to analyze if accidents occur more frequently on weekends.\n",
    "#### Detect the seasonal trends (e.g., winter vs. summer accidents).\n",
    "\n",
    "### Counting Incidents\n",
    "\n",
    "##### To better understand aviation accident trends, create new features that count the number of incidents based on different categories."
   ]
  },
  {
   "cell_type": "code",
   "execution_count": 27,
   "metadata": {},
   "outputs": [],
   "source": [
    "Data['Manufacturer.Incident.Count'] = Data.groupby('Make')['Make'].transform('count') # Count incidents per aircraft manufacturer (Make)\n",
    "Data['Model.Incident.Count'] = Data.groupby('Model')['Model'].transform('count') # Count incidents per aircraft model\n",
    "Data['Flight.Purpose.Incident_Count'] = Data.groupby('Purpose.of.flight')['Purpose.of.flight'].transform('count') # Count incidents per flight purpose\n",
    "Data['Weather.Incident.Count'] = Data.groupby('Weather.Condition')['Weather.Condition'].transform('count') # Count incidents per weather condition"
   ]
  },
  {
   "cell_type": "markdown",
   "metadata": {},
   "source": [
    "## groupby('Make') groups the dataset by Make:\n",
    "\n",
    "Counts how many times each manufacturer appears in the dataset (i.e., how many accidents involve aircraft from that manufacturer).\n",
    "Assigns the count as a new column manufacturer_incident_count for each row.\n",
    "\n",
    "## groupby('Model') groups the dataset by Model:\n",
    "\n",
    "Counts how many accidents occurred for each model.\n",
    "Stores the count in model_incident_count.\n",
    "\n",
    "## groupby('Purpose_Of_Flight') groups accidents based on the Purpose_Of_Flight:\n",
    "\n",
    "Counts how many accidents occurred for each type of flight.\n",
    "Creates flight_purpose_incident_count to store the count.\n",
    "\n",
    "## groupby('Weather_Condition') groups accidents by Weather_Condition:\n",
    "\n",
    "Counts how many accidents happened under each weather type.\n",
    "Stores this in weather_incident_count to help analyze how weather impacts aviation safety.\n",
    "\n",
    "### By counting the number of incidents based on different categories, we are able to:\n",
    "\n",
    "Identify high-risk aircraft manufacturers and models.\n",
    "Detect which types of flights have more accidents.\n",
    "Analyze weather conditions associated with aviation incidents.\n",
    "Improve accident prediction models by adding meaningful features.\n",
    "\n",
    "### Identify Key Features\n",
    "Categorize the features into potentially useful and less useful based on their relevance to accident analysis.\n",
    "\n",
    "The potentially useful features are to be kept and the less useful features are to be dropped.\n",
    "\n",
    "Potentially useful features to be kept:\n",
    "\n",
    " Event.Date: Helps analyze accident trends over time.\n",
    "\n",
    " Airport.Name: Identifying high-risk airports.\n",
    "\n",
    " Contry and Location: Geographical distribution of the accidents.\n",
    "\n",
    " Injury.Severity: The severity of accidents.\n",
    "\n",
    " Aircraft.damage: Understanding the extent of damage.\n",
    "\n",
    " Make and Model: Aircraft manufacturers & models with the most accidents.\n",
    "\n",
    " Number.of.Engines and Engine_Type: Engine configuration influence on accidents.\n",
    "\n",
    " Purpose.of.flight: Comparing accidents between commercial & private flights.\n",
    "\n",
    " Total.Fatal.Injuries, Total.Serious.Injuries, Total.Minor.Injuries, Total.Uninjured: Evaluate the accident impact.\n",
    "\n",
    " Weather.Condition: Role of weather in accidents.\n",
    "\n",
    " Broad.phase.of.flight: Identifies when accidents occur (e.g., takeoff, landing).\n",
    "\n",
    " Year,Month,Day.Of.Week, Manufacturer.Incident.Count, Model.Incident.Count, Flight.Purpose.Incident.Count & Weather.Incident.Count: New features for deeper insights.\n",
    "\n",
    "## Less useful features to be dropped:\n",
    "\n",
    " Airport.Code: May not be necessary if we have Airport_Name.\n",
    "\n",
    " Registration.Number: Unique to each aircraft, not relevant for trend analysis.\n",
    "\n",
    " Accident.Number: Identifier that doesn’t add analytical value.\n",
    "\n",
    " Report.Status&Publication.Date: Administrative data, not directly useful for insights."
   ]
  },
  {
   "cell_type": "code",
   "execution_count": 28,
   "metadata": {},
   "outputs": [],
   "source": [
    "# Dropping irrelevant columns\n",
    "columns_to_drop = ['Accident.Number', 'Registration.Number', 'Airport.Code', 'Report.Status', 'Publication.Date']\n",
    "Data = Data.drop(columns=columns_to_drop)"
   ]
  },
  {
   "cell_type": "code",
   "execution_count": 29,
   "metadata": {},
   "outputs": [
    {
     "name": "stdout",
     "output_type": "stream",
     "text": [
      "<class 'pandas.core.frame.DataFrame'>\n",
      "Int64Index: 88678 entries, 0 to 88888\n",
      "Data columns (total 27 columns):\n",
      " #   Column                         Non-Null Count  Dtype         \n",
      "---  ------                         --------------  -----         \n",
      " 0   Event.Id                       88678 non-null  object        \n",
      " 1   Investigation.Type             88678 non-null  object        \n",
      " 2   Event.Date                     88678 non-null  datetime64[ns]\n",
      " 3   Location                       88678 non-null  object        \n",
      " 4   Country                        88678 non-null  object        \n",
      " 5   Airport.Name                   88678 non-null  object        \n",
      " 6   Injury.Severity                88678 non-null  object        \n",
      " 7   Aircraft.damage                88678 non-null  object        \n",
      " 8   Make                           88678 non-null  object        \n",
      " 9   Model                          88678 non-null  object        \n",
      " 10  Amateur.Built                  88678 non-null  object        \n",
      " 11  Number.of.Engines              88678 non-null  float64       \n",
      " 12  Engine.Type                    88678 non-null  object        \n",
      " 13  Purpose.of.flight              88678 non-null  object        \n",
      " 14  Total.Fatal.Injuries           88678 non-null  float64       \n",
      " 15  Total.Serious.Injuries         88678 non-null  float64       \n",
      " 16  Total.Minor.Injuries           88678 non-null  float64       \n",
      " 17  Total.Uninjured                88678 non-null  float64       \n",
      " 18  Weather.Condition              88678 non-null  object        \n",
      " 19  Broad.phase.of.flight          88678 non-null  object        \n",
      " 20  Year                           88678 non-null  int64         \n",
      " 21  Month                          88678 non-null  int64         \n",
      " 22  Day_Of_Week                    88678 non-null  object        \n",
      " 23  Manufacturer.Incident.Count    88678 non-null  int64         \n",
      " 24  Model.Incident.Count           88678 non-null  int64         \n",
      " 25  Flight.Purpose.Incident_Count  88678 non-null  int64         \n",
      " 26  Weather.Incident.Count         88678 non-null  int64         \n",
      "dtypes: datetime64[ns](1), float64(5), int64(6), object(15)\n",
      "memory usage: 18.9+ MB\n"
     ]
    }
   ],
   "source": [
    "Data.info()"
   ]
  },
  {
   "cell_type": "code",
   "execution_count": 30,
   "metadata": {},
   "outputs": [],
   "source": [
    "# Transforming the cleaned data to a csv file\n",
    "Data.to_csv('Aviation_Data_Cleaned.csv', index=False)"
   ]
  },
  {
   "cell_type": "markdown",
   "metadata": {},
   "source": [
    "# Data Visualization.\n",
    "\n",
    "Aviation safety is a critical aspect of the airline industry, with accidents providing key insights into potential risk factors and areas of improvement. By analyzing historical accident data, we can identify trends, high-risk scenarios, and potential preventive measures. This report presents a series of visualizations that explore patterns in aviation accidents based on aircraft manufacturers, flight phases, and more.\n",
    "\n",
    "The goal is to uncover meaningful relationships that can help enhance aviation safety, inform industry stakeholders, and provide a data-driven approach to understanding accident dynamics.\n",
    "\n",
    "# Data Overview\n",
    "\n",
    "The dataset used in this analysis includes aviation accident records spanning multiple decades. The key features analyzed in this report include:\n",
    "\n",
    "Event Date – To analyze accident trends over time.\n",
    "\n",
    "Aircraft Make & Model – To assess which manufacturers and models report higher accident occurrences.\n",
    "\n",
    "Phase of Flight – To determine when accidents are most likely to happen (e.g., takeoff, landing, cruise).\n",
    "\n",
    "Number of Engines & Engine Type – To analyze the relationship between aircraft configuration and accident rates.\n",
    "\n",
    "Injury Severity & Damage Extent – To examine the impact of accidents on passengers and aircraft.\n",
    "\n",
    "Purpose of Flight – To compare accident trends in commercial and private aviation.\n",
    "\n",
    "By analyzing these features, we aim to highlight key insights that could contribute to risk mitigation and improved aviation policies.\n",
    "\n",
    "### Visualizations and Insights\n",
    "\n",
    "# 1. Accident Trends Over Time\n",
    "\n",
    "Understanding how aviation accident rates fluctuate over the years can help identify improvements in safety measures and detect patterns in accident occurrences. A line chart visualizing accident counts per year highlights long-term trends and whether aviation safety has improved over time.\n",
    "\n",
    "#### Key Insights:\n",
    "\n",
    "Are accident rates declining due to technological advancements and improved regulations?\n",
    "\n",
    "Do we see spikes in specific years, possibly linked to policy changes or global events?"
   ]
  },
  {
   "cell_type": "code",
   "execution_count": 31,
   "metadata": {},
   "outputs": [
    {
     "data": {
      "image/png": "[encoded data removed]",
      "text/plain": [
       "<Figure size 864x576 with 1 Axes>"
      ]
     },
     "metadata": {
      "needs_background": "light"
     },
     "output_type": "display_data"
    }
   ],
   "source": [
    "# Accient Trends over Time\n",
    "plt.figure(figsize=(12, 8))\n",
    "Data.groupby('Year').size().plot(marker='o')\n",
    "plt.title('Aviation Accidents Trend Over Time')\n",
    "plt.xlabel('Year')\n",
    "plt.ylabel('Number of Accidents')\n",
    "plt.grid(True)\n",
    "plt.show()"
   ]
  },
  {
   "cell_type": "markdown",
   "metadata": {},
   "source": [
    "# 2. Aircraft Damage Types\n",
    "\n",
    "Different accidents result in varying degrees of aircraft damage. This visualization categorizes incidents based on minor damage, substantial damage, and total loss.\n",
    "\n",
    "### Key Insights:\n",
    "\n",
    "What percentage of accidents result in a total aircraft loss?\n",
    "\n",
    "Are minor damage incidents more common than catastrophic accidents?\n",
    "\n",
    "Can certain aircraft types withstand impact better than others?"
   ]
  },
  {
   "cell_type": "code",
   "execution_count": 32,
   "metadata": {},
   "outputs": [
    {
     "data": {
      "image/png": "[encoded data removed]",
      "text/plain": [
       "<Figure size 720x432 with 1 Axes>"
      ]
     },
     "metadata": {
      "needs_background": "light"
     },
     "output_type": "display_data"
    }
   ],
   "source": [
    "# Aircraft damage types\n",
    "# Get counts and sorted order\n",
    "damage_counts = Data['Aircraft.damage'].value_counts()\n",
    "categories = damage_counts.index\n",
    "\n",
    "# Create figure\n",
    "plt.figure(figsize=(10, 6))\n",
    "plt.bar(categories, damage_counts)\n",
    "\n",
    "# Add labels and title\n",
    "plt.title('Aircraft Damage Distribution')\n",
    "plt.xlabel('Damage Type')\n",
    "plt.ylabel('Count')\n",
    "\n",
    "# Rotate x-axis labels\n",
    "plt.xticks(rotation=45)\n",
    "\n",
    "# Show plot\n",
    "plt.show()"
   ]
  },
  {
   "cell_type": "markdown",
   "metadata": {},
   "source": [
    "# 3. Accidents by Phase of Flight\n",
    "\n",
    "Not all phases of flight carry the same level of risk. By analyzing which phase—takeoff, climb, cruise, descent, or landing—has the highest accident occurrences, we can pinpoint critical moments that require extra precaution.\n",
    "\n",
    "### Key Insights:\n",
    "\n",
    "Do most accidents occur during takeoff and landing, the most complex phases of flight?\n",
    "\n",
    "Are mid-flight accidents less common, or do certain conditions make them more frequent?\n",
    "\n",
    "How can airlines improve safety procedures in high-risk phases?"
   ]
  },
  {
   "cell_type": "code",
   "execution_count": 33,
   "metadata": {},
   "outputs": [
    {
     "data": {
      "image/png": "[encoded data removed]",
      "text/plain": [
       "<Figure size 720x576 with 1 Axes>"
      ]
     },
     "metadata": {
      "needs_background": "light"
     },
     "output_type": "display_data"
    }
   ],
   "source": [
    "# Get counts and sorted order\n",
    "flight_phase_counts = Data['Broad.phase.of.flight'].value_counts()\n",
    "categories = flight_phase_counts.index\n",
    "\n",
    "# Create figure\n",
    "plt.figure(figsize=(10, 8))\n",
    "plt.bar(categories, flight_phase_counts)\n",
    "\n",
    "# Add labels and title\n",
    "plt.title('Accidents by Flight Phase')\n",
    "plt.xlabel('Count')\n",
    "plt.ylabel('Phase of Flight')\n",
    "\n",
    "# Rotate x-axis labels\n",
    "plt.xticks(rotation=90)\n",
    "# Show plot\n",
    "plt.show()"
   ]
  },
  {
   "cell_type": "markdown",
   "metadata": {},
   "source": [
    "# 4. Top Manufacturers Involved in Accidents\n",
    "\n",
    "Some aircraft manufacturers produce a higher volume of planes, naturally leading to more incidents. This visualization compares accident frequencies among major aircraft manufacturers.\n",
    "\n",
    "### Key Insights:\n",
    "\n",
    "Do certain manufacturers have disproportionately high accident rates?\n",
    "\n",
    "Does accident frequency correlate with production volume or design flaws?\n",
    "\n",
    "How do different manufacturers compare in terms of safety records?"
   ]
  },
  {
   "cell_type": "code",
   "execution_count": 34,
   "metadata": {},
   "outputs": [
    {
     "data": {
      "image/png": "[encoded data removed]",
      "text/plain": [
       "<Figure size 864x432 with 1 Axes>"
      ]
     },
     "metadata": {
      "needs_background": "light"
     },
     "output_type": "display_data"
    }
   ],
   "source": [
    "# Top manufacturers involved in accidents\n",
    "plt.figure(figsize=(12, 6))\n",
    "Data['Make'].value_counts().nlargest(10).plot(kind='barh', color='teal')\n",
    "plt.title('Top 10 Aircraft Manufacturers with Most Accidents')\n",
    "plt.xlabel('Number of Accidents')\n",
    "plt.ylabel('Manufacturer')\n",
    "plt.show()"
   ]
  },
  {
   "cell_type": "markdown",
   "metadata": {},
   "source": [
    "# 5. Number of Engines vs. Accidents\n",
    "\n",
    "This analysis explores whether aircraft with more engines experience fewer or more accidents. We compare single-engine, twin-engine, and multi-engine aircraft.\n",
    "\n",
    "### Key Insights:\n",
    "\n",
    "Do single-engine aircraft have higher accident rates due to mechanical failure risks?\n",
    "\n",
    "Are multi-engine aircraft safer, or do complex systems introduce more failure points?\n",
    "\n",
    "How does engine count influence accident survival rates?"
   ]
  },
  {
   "cell_type": "code",
   "execution_count": 35,
   "metadata": {},
   "outputs": [
    {
     "data": {
      "image/png": "[encoded data removed]",
      "text/plain": [
       "<Figure size 720x576 with 1 Axes>"
      ]
     },
     "metadata": {
      "needs_background": "light"
     },
     "output_type": "display_data"
    }
   ],
   "source": [
    "# Number of engines vs. accidents\n",
    "plt.figure(figsize=(10, 8))\n",
    "Data['Number.of.Engines'].value_counts().plot(kind='bar', color='coral')\n",
    "plt.title('Accidents by Number of Engines')\n",
    "plt.xlabel('Number of Engines')\n",
    "plt.ylabel('Accident Count')\n",
    "plt.show()"
   ]
  },
  {
   "cell_type": "markdown",
   "metadata": {},
   "source": [
    "# 6. Manufacturer vs. Number of Engines\n",
    "\n",
    "Different aircraft manufacturers design planes with varying engine configurations. A box plot of manufacturers and engine counts provides insights into their aircraft designs.\n",
    "\n",
    "### Key Insights:\n",
    "\n",
    "Do some manufacturers favor single-engine designs, while others focus on multi-engine planes?\n",
    "\n",
    "How do engine configurations impact accident trends for different manufacturers?\n",
    "\n",
    "Are manufacturers producing a diverse range of aircraft, or specializing in specific types?"
   ]
  },
  {
   "cell_type": "code",
   "execution_count": 36,
   "metadata": {},
   "outputs": [
    {
     "data": {
      "image/png": "[encoded data removed]",
      "text/plain": [
       "<Figure size 864x576 with 1 Axes>"
      ]
     },
     "metadata": {
      "needs_background": "light"
     },
     "output_type": "display_data"
    }
   ],
   "source": [
    "# Manufacturer vs Number of Engines\n",
    "plt.figure(figsize=(12, 8))\n",
    "sns.barplot(x=Data['Number.of.Engines'], y=Data['Manufacturer.Incident.Count'])\n",
    "plt.xticks(rotation=90)\n",
    "plt.title('Manufacturer.Incident.Count vs Number of Engines')\n",
    "plt.xlabel('Number of Engines')\n",
    "plt.ylabel('Manufacturer_Incident_Count')\n",
    "plt.show()"
   ]
  },
  {
   "cell_type": "markdown",
   "metadata": {},
   "source": [
    "# 7. Purpose of Flight vs. Injury Severity\n",
    "\n",
    "Different flight purposes, such as commercial, private, cargo, and military, may have varying levels of accident severity. This visualization examines the average number of injuries for each flight purpose to understand how risk levels differ across categories.\n",
    "\n",
    "### Key Insights:\n",
    "\n",
    "Do certain flight purposes experience higher fatal or serious injuries?\n",
    "\n",
    "Are private flights more prone to severe injuries compared to commercial flights?\n",
    "\n",
    "Which flight categories tend to have the highest number of uninjured passengers?"
   ]
  },
  {
   "cell_type": "code",
   "execution_count": 37,
   "metadata": {},
   "outputs": [
    {
     "data": {
      "image/png": "[encoded data removed]",
      "text/plain": [
       "<Figure size 864x432 with 1 Axes>"
      ]
     },
     "metadata": {
      "needs_background": "light"
     },
     "output_type": "display_data"
    }
   ],
   "source": [
    "# Define the injury types\n",
    "injury_types = ['Total.Fatal.Injuries', 'Total.Serious.Injuries', 'Total.Minor.Injuries', 'Total.Uninjured']\n",
    "\n",
    "# Group by Purpose of Flight and compute mean injuries\n",
    "purpose_injuries = Data.groupby('Purpose.of.flight')[injury_types].mean().reset_index()\n",
    "\n",
    "# Melt the dataframe for easier plotting\n",
    "purpose_injuries_melted = purpose_injuries.melt(id_vars=['Purpose.of.flight'], \n",
    "                                                 var_name='Injury.Type', \n",
    "                                                 value_name='Average.Injuries')\n",
    "\n",
    "# Set up the figure\n",
    "plt.figure(figsize=(12, 6))\n",
    "\n",
    "# Plot grouped bar chart\n",
    "sns.barplot(\n",
    "    data=purpose_injuries_melted, \n",
    "    x='Purpose.of.flight', \n",
    "    y='Average.Injuries', \n",
    "    hue='Injury.Type', \n",
    "    palette='coolwarm'\n",
    ")\n",
    "\n",
    "# Customize plot\n",
    "plt.xticks(rotation=45, ha='right')  # Rotate labels for readability\n",
    "plt.xlabel(\"Purpose of Flight\")\n",
    "plt.ylabel(\"Average Number of Injuries\")\n",
    "plt.title(\"Average Injuries by Purpose of Flight\")\n",
    "plt.legend(title=\"Injury Type\")\n",
    "plt.grid(axis='y', linestyle='--', alpha=0.7)\n",
    "plt.show()"
   ]
  },
  {
   "cell_type": "markdown",
   "metadata": {},
   "source": [
    "# 8. Manufacturer vs. Purpose of Flight\n",
    "\n",
    "Different aircraft are built for different purposes, such as commercial transport, private aviation, cargo, and military use. This visualization compares manufacturers based on the primary purpose of their aircraft.\n",
    "\n",
    "### Key Insights:\n",
    "\n",
    "Are some manufacturers more dominant in commercial aviation, while others focus on private or military aircraft?\n",
    "\n",
    "Does the purpose of flight influence accident frequency (e.g., are private flights riskier than commercial ones)?\n",
    "\n",
    "How do cargo flights compare to passenger flights in terms of safety?"
   ]
  },
  {
   "cell_type": "code",
   "execution_count": 38,
   "metadata": {},
   "outputs": [
    {
     "data": {
      "image/png": "[encoded data removed]",
      "text/plain": [
       "<Figure size 864x432 with 1 Axes>"
      ]
     },
     "metadata": {
      "needs_background": "light"
     },
     "output_type": "display_data"
    }
   ],
   "source": [
    "# Manufacturer vs Purpose of Flight\n",
    "plt.figure(figsize=(12, 6))\n",
    "sns.barplot(x=Data['Purpose.of.flight'], y=Data['Manufacturer.Incident.Count'])\n",
    "plt.xticks(rotation=90)\n",
    "plt.title('Manufacturer_Incident_Count vs Purpose of Flight')\n",
    "plt.xlabel('Purpose_Of_Flight')\n",
    "plt.ylabel('Manufacturer_Incident_Count')\n",
    "plt.show()"
   ]
  },
  {
   "cell_type": "markdown",
   "metadata": {},
   "source": [
    "# 9. Correlation Heatmap of Injury Severity and Number of Engines\n",
    "\n",
    "Understanding the relationship between injury severity and aircraft characteristics can provide insights into accident outcomes. This heatmap visualizes the correlation between different injury severity levels and the number of engines in aviation accidents.\n",
    "\n",
    "### Key Insights:\n",
    "\n",
    "Are aircraft with more engines associated with higher or lower injury severity?\n",
    "\n",
    "Do fatal, serious, minor, and uninjured cases show strong correlations with each other?\n",
    "\n",
    "How does the number of engines relate to injury severity patterns in aviation accidents?"
   ]
  },
  {
   "cell_type": "code",
   "execution_count": 39,
   "metadata": {},
   "outputs": [
    {
     "data": {
      "image/png": "[encoded data removed]",
      "text/plain": [
       "<Figure size 936x504 with 2 Axes>"
      ]
     },
     "metadata": {
      "needs_background": "light"
     },
     "output_type": "display_data"
    }
   ],
   "source": [
    "# Select numerical columns for correlation\n",
    "num_cols = ['Total.Fatal.Injuries', 'Total.Serious.Injuries', 'Total.Minor.Injuries', 'Total.Uninjured', 'Number.of.Engines']\n",
    "\n",
    "# Compute correlation matrix\n",
    "correlation_matrix = Data[num_cols].corr()\n",
    "\n",
    "# Plot heatmap\n",
    "plt.figure(figsize=(13, 7))\n",
    "sns.heatmap(correlation_matrix, annot=True, cmap=\"coolwarm\", fmt=\".2f\", linewidths=0.5)\n",
    "plt.title(\"Correlation Heatmap of Injury Severity and Number of Engines\")\n",
    "plt.show()"
   ]
  },
  {
   "cell_type": "markdown",
   "metadata": {},
   "source": [
    "# Conclusion\n",
    "\n",
    "These visualizations offer valuable insights into aviation accident trends, helping to identify high-risk scenarios, critical safety concerns, and potential preventive measures. By leveraging data analytics, aviation regulators, manufacturers, and airlines can work towards enhancing flight safety, reducing accident risks, and improving overall industry standards.\n",
    "\n",
    "Further analysis could explore additional factors such as pilot experience, maintenance history, and specific accident causes to gain a more comprehensive understanding of aviation safety."
   ]
  }
 ],
 "metadata": {
  "kernelspec": {
   "display_name": "learn-env",
   "language": "python",
   "name": "python3"
  },
  "language_info": {
   "codemirror_mode": {
    "name": "ipython",
    "version": 3
   },
   "file_extension": ".py",
   "mimetype": "text/x-python",
   "name": "python",
   "nbconvert_exporter": "python",
   "pygments_lexer": "ipython3",
   "version": "3.8.5"
  }
 },
 "nbformat": 4,
 "nbformat_minor": 2
}
